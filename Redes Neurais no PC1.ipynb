{
 "cells": [
  {
   "cell_type": "code",
   "execution_count": 265,
   "metadata": {},
   "outputs": [],
   "source": [
    "# Importando pacotes necessários\n",
    "import pandas as pd\n",
    "import numpy as np\n",
    "import tensorflow as tf\n",
    "import matplotlib.pyplot as plt\n",
    "import seaborn as sns\n",
    "\n",
    "from sklearn.decomposition import PCA\n",
    "from sklearn.model_selection import KFold, train_test_split\n",
    "from sklearn.neural_network import MLPClassifier\n",
    "from sklearn.metrics import confusion_matrix, classification_report\n",
    "from sklearn.preprocessing import StandardScaler\n",
    "from sklearn.model_selection import KFold\n",
    "from sklearn.preprocessing import LabelEncoder\n",
    "from sklearn.metrics import confusion_matrix, ConfusionMatrixDisplay\n",
    "from sklearn.model_selection import StratifiedKFold\n",
    "from sklearn.metrics import confusion_matrix, precision_score\n",
    "\n",
    "from tensorflow.keras.models import Sequential\n",
    "from tensorflow.keras.layers import Dense\n",
    "from tensorflow.keras.callbacks import ModelCheckpoint\n",
    "from tensorflow.keras.models import load_model\n",
    "\n",
    "\n",
    "import warnings\n",
    "warnings.filterwarnings(\"ignore\", category=UserWarning, module='keras')\n",
    "\n",
    "from scipy.stats import spearmanr\n",
    "\n",
    "from collections import Counter"
   ]
  },
  {
   "cell_type": "code",
   "execution_count": 266,
   "metadata": {},
   "outputs": [],
   "source": [
    "# Função para criar o modelo de rede neural\n",
    "def create_model(input_shape, num_classes):\n",
    "    model = Sequential([\n",
    "        Dense(10, activation='relu', input_shape=(input_shape,)),\n",
    "        Dense(num_classes, activation='softmax')\n",
    "    ])\n",
    "    model.compile(optimizer='adam', loss='sparse_categorical_crossentropy', metrics=['accuracy'])\n",
    "    return model"
   ]
  },
  {
   "cell_type": "markdown",
   "metadata": {},
   "source": [
    "Aplicando a seleção de Dados por k-fold"
   ]
  },
  {
   "cell_type": "code",
   "execution_count": 267,
   "metadata": {},
   "outputs": [],
   "source": [
    "# Carregar o arquivo 'dados.csv' no dataframe\n",
    "df_kfold = pd.read_csv('df_CP1.csv')"
   ]
  },
  {
   "cell_type": "code",
   "execution_count": 268,
   "metadata": {},
   "outputs": [],
   "source": [
    "# Separando as variáveis objetivo\n",
    "X = df_kfold.drop('CLASSE', axis=1)\n",
    "y = df_kfold['CLASSE']"
   ]
  },
  {
   "cell_type": "code",
   "execution_count": 269,
   "metadata": {},
   "outputs": [],
   "source": [
    "#Definindo o número de folds\n",
    "\n",
    "num_folds = 7\n",
    "sub_num_folds = 7"
   ]
  },
  {
   "cell_type": "code",
   "execution_count": 270,
   "metadata": {},
   "outputs": [],
   "source": [
    "#Configurar o k-Fold Principal\n",
    "\n",
    "kf = StratifiedKFold(n_splits=num_folds, shuffle=True, random_state=42)"
   ]
  },
  {
   "cell_type": "code",
   "execution_count": 271,
   "metadata": {},
   "outputs": [],
   "source": [
    "#Dividir os Dados para o k-fold teste\n",
    "\n",
    "fold_indices = list(kf.split(X, y))"
   ]
  },
  {
   "cell_type": "code",
   "execution_count": 272,
   "metadata": {},
   "outputs": [],
   "source": [
    "# Iterar sobre cada fold principal\n",
    "for fold, (train_index, test_index) in enumerate(fold_indices):\n",
    "    # Dados de treino e teste para o fold principal\n",
    "    X_train, X_test = X.iloc[train_index], X.iloc[test_index]\n",
    "    y_train, y_test = y.iloc[train_index], y.iloc[test_index]\n",
    "\n",
    "    # Aplicar o sub-k-fold para treino e validação\n",
    "    sub_kf = StratifiedKFold(n_splits=sub_num_folds, shuffle=True, random_state=42)\n",
    "\n",
    "    # Armazenar os índices dos folds secundários\n",
    "    sub_fold_indices = list(sub_kf.split(X_train, y_train))\n",
    "\n",
    "    for sub_fold, (sub_train_index, sub_val_index) in enumerate(sub_fold_indices):\n",
    "        # Dados de treino e validação para o sub-k-fold\n",
    "        X_sub_train, X_sub_val = X_train.iloc[sub_train_index], X_train.iloc[sub_val_index]\n",
    "        y_sub_train, y_sub_val = y_train.iloc[sub_train_index], y_train.iloc[sub_val_index]\n",
    "\n",
    "        # Aqui você pode treinar e validar seu modelo\n",
    "        # Exemplo: print(f'Fold {fold + 1}, Sub-Fold {sub_fold + 1}')\n"
   ]
  },
  {
   "cell_type": "markdown",
   "metadata": {},
   "source": [
    "Testando disposição das Classes"
   ]
  },
  {
   "cell_type": "code",
   "execution_count": 273,
   "metadata": {},
   "outputs": [],
   "source": [
    "# from collections import Counter\n",
    "# import pandas as pd\n",
    "\n",
    "# # Exemplo de dataframe com rótulos (alvo)\n",
    "# y = pd.Series(y)  # Supondo que seus rótulos estejam em um array ou lista chamada 'y'\n",
    "\n",
    "# # Inicializar o StratifiedKFold\n",
    "# kfold = StratifiedKFold(n_splits=7, shuffle=True, random_state=42)\n",
    "\n",
    "# # Iterar pelos folds principais\n",
    "# for fold, (train_index, test_index) in enumerate(kfold.split(X, y)):\n",
    "#     y_train, y_test = y.iloc[train_index], y.iloc[test_index]\n",
    "    \n",
    "#     # Contagem das classes no treino e teste\n",
    "#     train_counts = Counter(y_train)\n",
    "#     test_counts = Counter(y_test)\n",
    "    \n",
    "#     # print(f\"Fold {fold + 1}\")\n",
    "#     # print(f\"Distribuição no treino: {train_counts}\")\n",
    "#     # print(f\"Distribuição no teste: {test_counts}\\n\")\n"
   ]
  },
  {
   "cell_type": "code",
   "execution_count": 274,
   "metadata": {},
   "outputs": [],
   "source": [
    "# # Aqui é só pra contar e ver a proporção dos Folds e Subfolds\n",
    "\n",
    "# # Suponha que X seja um DataFrame e y seja uma Series\n",
    "# # Se X é um DataFrame e y é uma Series\n",
    "# kfold = StratifiedKFold(n_splits=7, shuffle=True, random_state=42)\n",
    "\n",
    "# # Iterar pelos folds principais\n",
    "# for fold, (train_index, test_index) in enumerate(kfold.split(X, y)):\n",
    "#     X_train, X_test = X.iloc[train_index], X.iloc[test_index]\n",
    "#     y_train, y_test = y.iloc[train_index], y.iloc[test_index]\n",
    "    \n",
    "#     # Contagem das classes no treino e teste\n",
    "#     train_counts = Counter(y_train)\n",
    "#     test_counts = Counter(y_test)\n",
    "    \n",
    "#     print(f\"Fold {fold + 1}\")\n",
    "#     print(f\"Distribuição no treino: {train_counts}\")\n",
    "#     print(f\"Distribuição no teste: {test_counts}\\n\")\n",
    "\n",
    "#     # Subdividir o treino em subfolds\n",
    "#     sub_kfold = StratifiedKFold(n_splits=7, shuffle=True, random_state=42)\n",
    "    \n",
    "#     for sub_fold, (sub_train_index, sub_val_index) in enumerate(sub_kfold.split(X_train, y_train)):\n",
    "#         y_sub_train = y_train.iloc[sub_train_index]\n",
    "#         y_sub_val = y_train.iloc[sub_val_index]\n",
    "        \n",
    "#         # Contagem das classes nos subfolds\n",
    "#         sub_train_counts = Counter(y_sub_train)\n",
    "#         sub_val_counts = Counter(y_sub_val)\n",
    "        \n",
    "#         print(f\"  Subfold {sub_fold + 1}\")\n",
    "#         print(f\"  Distribuição no treino: {sub_train_counts}\")\n",
    "#         print(f\"  Distribuição na validação: {sub_val_counts}\\n\")\n",
    "\n"
   ]
  },
  {
   "cell_type": "markdown",
   "metadata": {},
   "source": [
    "Aplicando as redes neurais no k-fold do PCA"
   ]
  },
  {
   "cell_type": "code",
   "execution_count": 275,
   "metadata": {},
   "outputs": [],
   "source": [
    "# Lista para armazenar as métricas de avaliação\n",
    "validation_reports = []"
   ]
  },
  {
   "cell_type": "code",
   "execution_count": 276,
   "metadata": {},
   "outputs": [],
   "source": [
    "best_model_path = \"best_model_CP1.keras\"  # Local para salvar o melhor modelo\n",
    "\n",
    "# Configurar o callback para salvar o melhor modelo com base na métrica de validação\n",
    "checkpoint = ModelCheckpoint(best_model_path, monitor='val_accuracy', save_best_only=True, mode='max')\n",
    "\n",
    "# Variável para armazenar o melhor desempenho\n",
    "best_val_accuracy = 0\n",
    "best_fold = None"
   ]
  },
  {
   "cell_type": "code",
   "execution_count": 277,
   "metadata": {},
   "outputs": [],
   "source": [
    "# Inicializar uma lista para armazenar a precisão ponderada de cada fold\n",
    "fold_accuracies = []"
   ]
  },
  {
   "cell_type": "code",
   "execution_count": 278,
   "metadata": {},
   "outputs": [],
   "source": [
    "# Exibir precisões ponderadas de cada fold\n",
    "for accuracy in fold_accuracies:\n",
    "    print(f\"Fold {accuracy['fold']}, Sub-Fold {accuracy['sub_fold']}: Acurácia de Teste = {accuracy['test_accuracy']:.4f}\")"
   ]
  },
  {
   "cell_type": "code",
   "execution_count": 279,
   "metadata": {},
   "outputs": [],
   "source": [
    "# Codificar os rótulos para garantir que estejam no intervalo esperado\n",
    "label_encoder = LabelEncoder()\n",
    "y_encoded = label_encoder.fit_transform(y)"
   ]
  },
  {
   "cell_type": "code",
   "execution_count": 280,
   "metadata": {},
   "outputs": [
    {
     "name": "stdout",
     "output_type": "stream",
     "text": [
      "\u001b[1m5/5\u001b[0m \u001b[32m━━━━━━━━━━━━━━━━━━━━\u001b[0m\u001b[37m\u001b[0m \u001b[1m0s\u001b[0m 19ms/step\n",
      "\u001b[1m5/5\u001b[0m \u001b[32m━━━━━━━━━━━━━━━━━━━━\u001b[0m\u001b[37m\u001b[0m \u001b[1m0s\u001b[0m 11ms/step\n",
      "\u001b[1m5/5\u001b[0m \u001b[32m━━━━━━━━━━━━━━━━━━━━\u001b[0m\u001b[37m\u001b[0m \u001b[1m0s\u001b[0m 15ms/step\n",
      "\u001b[1m5/5\u001b[0m \u001b[32m━━━━━━━━━━━━━━━━━━━━\u001b[0m\u001b[37m\u001b[0m \u001b[1m0s\u001b[0m 13ms/step\n",
      "\u001b[1m5/5\u001b[0m \u001b[32m━━━━━━━━━━━━━━━━━━━━\u001b[0m\u001b[37m\u001b[0m \u001b[1m0s\u001b[0m 15ms/step\n",
      "\u001b[1m5/5\u001b[0m \u001b[32m━━━━━━━━━━━━━━━━━━━━\u001b[0m\u001b[37m\u001b[0m \u001b[1m0s\u001b[0m 12ms/step\n",
      "\u001b[1m5/5\u001b[0m \u001b[32m━━━━━━━━━━━━━━━━━━━━\u001b[0m\u001b[37m\u001b[0m \u001b[1m0s\u001b[0m 11ms/step\n",
      "\u001b[1m5/5\u001b[0m \u001b[32m━━━━━━━━━━━━━━━━━━━━\u001b[0m\u001b[37m\u001b[0m \u001b[1m0s\u001b[0m 13ms/step\n",
      "\u001b[1m5/5\u001b[0m \u001b[32m━━━━━━━━━━━━━━━━━━━━\u001b[0m\u001b[37m\u001b[0m \u001b[1m0s\u001b[0m 12ms/step\n",
      "\u001b[1m5/5\u001b[0m \u001b[32m━━━━━━━━━━━━━━━━━━━━\u001b[0m\u001b[37m\u001b[0m \u001b[1m0s\u001b[0m 11ms/step\n",
      "\u001b[1m5/5\u001b[0m \u001b[32m━━━━━━━━━━━━━━━━━━━━\u001b[0m\u001b[37m\u001b[0m \u001b[1m0s\u001b[0m 11ms/step\n",
      "\u001b[1m5/5\u001b[0m \u001b[32m━━━━━━━━━━━━━━━━━━━━\u001b[0m\u001b[37m\u001b[0m \u001b[1m0s\u001b[0m 13ms/step\n",
      "\u001b[1m5/5\u001b[0m \u001b[32m━━━━━━━━━━━━━━━━━━━━\u001b[0m\u001b[37m\u001b[0m \u001b[1m0s\u001b[0m 15ms/step\n",
      "\u001b[1m5/5\u001b[0m \u001b[32m━━━━━━━━━━━━━━━━━━━━\u001b[0m\u001b[37m\u001b[0m \u001b[1m0s\u001b[0m 12ms/step\n",
      "\u001b[1m5/5\u001b[0m \u001b[32m━━━━━━━━━━━━━━━━━━━━\u001b[0m\u001b[37m\u001b[0m \u001b[1m0s\u001b[0m 12ms/step\n"
     ]
    },
    {
     "name": "stderr",
     "output_type": "stream",
     "text": [
      "c:\\Users\\lucas\\AppData\\Local\\Programs\\Python\\Python312\\Lib\\site-packages\\sklearn\\metrics\\_classification.py:1531: UndefinedMetricWarning: Precision is ill-defined and being set to 0.0 in labels with no predicted samples. Use `zero_division` parameter to control this behavior.\n",
      "  _warn_prf(average, modifier, f\"{metric.capitalize()} is\", len(result))\n"
     ]
    },
    {
     "name": "stdout",
     "output_type": "stream",
     "text": [
      "\u001b[1m5/5\u001b[0m \u001b[32m━━━━━━━━━━━━━━━━━━━━\u001b[0m\u001b[37m\u001b[0m \u001b[1m0s\u001b[0m 12ms/step\n"
     ]
    },
    {
     "name": "stderr",
     "output_type": "stream",
     "text": [
      "c:\\Users\\lucas\\AppData\\Local\\Programs\\Python\\Python312\\Lib\\site-packages\\sklearn\\metrics\\_classification.py:1531: UndefinedMetricWarning: Precision is ill-defined and being set to 0.0 in labels with no predicted samples. Use `zero_division` parameter to control this behavior.\n",
      "  _warn_prf(average, modifier, f\"{metric.capitalize()} is\", len(result))\n"
     ]
    },
    {
     "name": "stdout",
     "output_type": "stream",
     "text": [
      "\u001b[1m5/5\u001b[0m \u001b[32m━━━━━━━━━━━━━━━━━━━━\u001b[0m\u001b[37m\u001b[0m \u001b[1m0s\u001b[0m 10ms/step\n",
      "\u001b[1m5/5\u001b[0m \u001b[32m━━━━━━━━━━━━━━━━━━━━\u001b[0m\u001b[37m\u001b[0m \u001b[1m0s\u001b[0m 19ms/step\n",
      "\u001b[1m5/5\u001b[0m \u001b[32m━━━━━━━━━━━━━━━━━━━━\u001b[0m\u001b[37m\u001b[0m \u001b[1m0s\u001b[0m 10ms/step\n",
      "\u001b[1m5/5\u001b[0m \u001b[32m━━━━━━━━━━━━━━━━━━━━\u001b[0m\u001b[37m\u001b[0m \u001b[1m0s\u001b[0m 11ms/step\n",
      "\u001b[1m5/5\u001b[0m \u001b[32m━━━━━━━━━━━━━━━━━━━━\u001b[0m\u001b[37m\u001b[0m \u001b[1m0s\u001b[0m 13ms/step\n"
     ]
    },
    {
     "name": "stderr",
     "output_type": "stream",
     "text": [
      "c:\\Users\\lucas\\AppData\\Local\\Programs\\Python\\Python312\\Lib\\site-packages\\sklearn\\metrics\\_classification.py:1531: UndefinedMetricWarning: Precision is ill-defined and being set to 0.0 in labels with no predicted samples. Use `zero_division` parameter to control this behavior.\n",
      "  _warn_prf(average, modifier, f\"{metric.capitalize()} is\", len(result))\n"
     ]
    },
    {
     "name": "stdout",
     "output_type": "stream",
     "text": [
      "\u001b[1m5/5\u001b[0m \u001b[32m━━━━━━━━━━━━━━━━━━━━\u001b[0m\u001b[37m\u001b[0m \u001b[1m0s\u001b[0m 12ms/step\n",
      "\u001b[1m5/5\u001b[0m \u001b[32m━━━━━━━━━━━━━━━━━━━━\u001b[0m\u001b[37m\u001b[0m \u001b[1m0s\u001b[0m 12ms/step\n",
      "\u001b[1m5/5\u001b[0m \u001b[32m━━━━━━━━━━━━━━━━━━━━\u001b[0m\u001b[37m\u001b[0m \u001b[1m0s\u001b[0m 11ms/step\n",
      "\u001b[1m5/5\u001b[0m \u001b[32m━━━━━━━━━━━━━━━━━━━━\u001b[0m\u001b[37m\u001b[0m \u001b[1m0s\u001b[0m 11ms/step\n",
      "\u001b[1m5/5\u001b[0m \u001b[32m━━━━━━━━━━━━━━━━━━━━\u001b[0m\u001b[37m\u001b[0m \u001b[1m0s\u001b[0m 17ms/step\n",
      "\u001b[1m5/5\u001b[0m \u001b[32m━━━━━━━━━━━━━━━━━━━━\u001b[0m\u001b[37m\u001b[0m \u001b[1m0s\u001b[0m 14ms/step\n",
      "\u001b[1m5/5\u001b[0m \u001b[32m━━━━━━━━━━━━━━━━━━━━\u001b[0m\u001b[37m\u001b[0m \u001b[1m0s\u001b[0m 12ms/step\n",
      "\u001b[1m5/5\u001b[0m \u001b[32m━━━━━━━━━━━━━━━━━━━━\u001b[0m\u001b[37m\u001b[0m \u001b[1m0s\u001b[0m 63ms/step\n",
      "\u001b[1m5/5\u001b[0m \u001b[32m━━━━━━━━━━━━━━━━━━━━\u001b[0m\u001b[37m\u001b[0m \u001b[1m0s\u001b[0m 16ms/step\n",
      "\u001b[1m5/5\u001b[0m \u001b[32m━━━━━━━━━━━━━━━━━━━━\u001b[0m\u001b[37m\u001b[0m \u001b[1m1s\u001b[0m 16ms/step\n",
      "\u001b[1m5/5\u001b[0m \u001b[32m━━━━━━━━━━━━━━━━━━━━\u001b[0m\u001b[37m\u001b[0m \u001b[1m0s\u001b[0m 13ms/step\n",
      "\u001b[1m5/5\u001b[0m \u001b[32m━━━━━━━━━━━━━━━━━━━━\u001b[0m\u001b[37m\u001b[0m \u001b[1m0s\u001b[0m 10ms/step\n"
     ]
    },
    {
     "name": "stderr",
     "output_type": "stream",
     "text": [
      "c:\\Users\\lucas\\AppData\\Local\\Programs\\Python\\Python312\\Lib\\site-packages\\sklearn\\metrics\\_classification.py:1531: UndefinedMetricWarning: Precision is ill-defined and being set to 0.0 in labels with no predicted samples. Use `zero_division` parameter to control this behavior.\n",
      "  _warn_prf(average, modifier, f\"{metric.capitalize()} is\", len(result))\n"
     ]
    },
    {
     "name": "stdout",
     "output_type": "stream",
     "text": [
      "\u001b[1m5/5\u001b[0m \u001b[32m━━━━━━━━━━━━━━━━━━━━\u001b[0m\u001b[37m\u001b[0m \u001b[1m0s\u001b[0m 12ms/step\n"
     ]
    },
    {
     "name": "stderr",
     "output_type": "stream",
     "text": [
      "c:\\Users\\lucas\\AppData\\Local\\Programs\\Python\\Python312\\Lib\\site-packages\\sklearn\\metrics\\_classification.py:1531: UndefinedMetricWarning: Precision is ill-defined and being set to 0.0 in labels with no predicted samples. Use `zero_division` parameter to control this behavior.\n",
      "  _warn_prf(average, modifier, f\"{metric.capitalize()} is\", len(result))\n"
     ]
    },
    {
     "name": "stdout",
     "output_type": "stream",
     "text": [
      "\u001b[1m5/5\u001b[0m \u001b[32m━━━━━━━━━━━━━━━━━━━━\u001b[0m\u001b[37m\u001b[0m \u001b[1m0s\u001b[0m 20ms/step\n",
      "\u001b[1m5/5\u001b[0m \u001b[32m━━━━━━━━━━━━━━━━━━━━\u001b[0m\u001b[37m\u001b[0m \u001b[1m0s\u001b[0m 14ms/step\n",
      "\u001b[1m5/5\u001b[0m \u001b[32m━━━━━━━━━━━━━━━━━━━━\u001b[0m\u001b[37m\u001b[0m \u001b[1m0s\u001b[0m 11ms/step\n",
      "\u001b[1m5/5\u001b[0m \u001b[32m━━━━━━━━━━━━━━━━━━━━\u001b[0m\u001b[37m\u001b[0m \u001b[1m0s\u001b[0m 11ms/step\n",
      "\u001b[1m5/5\u001b[0m \u001b[32m━━━━━━━━━━━━━━━━━━━━\u001b[0m\u001b[37m\u001b[0m \u001b[1m0s\u001b[0m 13ms/step\n",
      "\u001b[1m5/5\u001b[0m \u001b[32m━━━━━━━━━━━━━━━━━━━━\u001b[0m\u001b[37m\u001b[0m \u001b[1m0s\u001b[0m 16ms/step\n",
      "\u001b[1m5/5\u001b[0m \u001b[32m━━━━━━━━━━━━━━━━━━━━\u001b[0m\u001b[37m\u001b[0m \u001b[1m0s\u001b[0m 11ms/step\n",
      "\u001b[1m5/5\u001b[0m \u001b[32m━━━━━━━━━━━━━━━━━━━━\u001b[0m\u001b[37m\u001b[0m \u001b[1m0s\u001b[0m 9ms/step \n"
     ]
    },
    {
     "name": "stderr",
     "output_type": "stream",
     "text": [
      "c:\\Users\\lucas\\AppData\\Local\\Programs\\Python\\Python312\\Lib\\site-packages\\sklearn\\metrics\\_classification.py:1531: UndefinedMetricWarning: Precision is ill-defined and being set to 0.0 in labels with no predicted samples. Use `zero_division` parameter to control this behavior.\n",
      "  _warn_prf(average, modifier, f\"{metric.capitalize()} is\", len(result))\n"
     ]
    },
    {
     "name": "stdout",
     "output_type": "stream",
     "text": [
      "\u001b[1m5/5\u001b[0m \u001b[32m━━━━━━━━━━━━━━━━━━━━\u001b[0m\u001b[37m\u001b[0m \u001b[1m0s\u001b[0m 10ms/step\n",
      "\u001b[1m5/5\u001b[0m \u001b[32m━━━━━━━━━━━━━━━━━━━━\u001b[0m\u001b[37m\u001b[0m \u001b[1m0s\u001b[0m 10ms/step\n",
      "\u001b[1m5/5\u001b[0m \u001b[32m━━━━━━━━━━━━━━━━━━━━\u001b[0m\u001b[37m\u001b[0m \u001b[1m0s\u001b[0m 7ms/step \n",
      "\u001b[1m5/5\u001b[0m \u001b[32m━━━━━━━━━━━━━━━━━━━━\u001b[0m\u001b[37m\u001b[0m \u001b[1m0s\u001b[0m 10ms/step\n",
      "\u001b[1m5/5\u001b[0m \u001b[32m━━━━━━━━━━━━━━━━━━━━\u001b[0m\u001b[37m\u001b[0m \u001b[1m0s\u001b[0m 9ms/step \n",
      "\u001b[1m5/5\u001b[0m \u001b[32m━━━━━━━━━━━━━━━━━━━━\u001b[0m\u001b[37m\u001b[0m \u001b[1m0s\u001b[0m 9ms/step \n",
      "\u001b[1m5/5\u001b[0m \u001b[32m━━━━━━━━━━━━━━━━━━━━\u001b[0m\u001b[37m\u001b[0m \u001b[1m0s\u001b[0m 7ms/step \n"
     ]
    }
   ],
   "source": [
    "# Armazenar as precisões por classe para cada sub-fold\n",
    "sub_fold_precisions = []\n",
    "\n",
    "# Exibir a precisão de cada classe\n",
    "for fold, (train_index, test_index) in enumerate(fold_indices):\n",
    "    # Dados de treino e teste para o fold principal\n",
    "    X_train, X_test = X.iloc[train_index], X.iloc[test_index]\n",
    "    y_train, y_test = y_encoded[train_index], y_encoded[test_index]\n",
    "    \n",
    "    # Aplicar Sub-K-Fold para treino e validação\n",
    "    sub_fold_indices = list(sub_kf.split(X_train, y_train))\n",
    "    \n",
    "    for sub_fold, (sub_train_index, sub_val_index) in enumerate(sub_fold_indices):\n",
    "        # Dados de treino e validação para o sub-k-fold\n",
    "        X_sub_train, X_sub_val = X_train.iloc[sub_train_index], X_train.iloc[sub_val_index]\n",
    "        y_sub_train, y_sub_val = y_train[sub_train_index], y_train[sub_val_index]\n",
    "        \n",
    "        # Criar o modelo\n",
    "        num_classes = len(label_encoder.classes_)\n",
    "        model = create_model(X.shape[1], num_classes)\n",
    "        \n",
    "        # Treinar o modelo e salvar o histórico\n",
    "        history = model.fit(\n",
    "            X_sub_train, y_sub_train, \n",
    "            epochs=100, batch_size=32, \n",
    "            verbose=0, validation_data=(X_sub_val, y_sub_val),\n",
    "            callbacks=[checkpoint]\n",
    "        )\n",
    "\n",
    "        # Avaliar no conjunto de teste\n",
    "        y_test_pred = model.predict(X_test)\n",
    "        y_test_pred_classes = np.argmax(y_test_pred, axis=1)\n",
    "\n",
    "        # Calcular acurácia de teste\n",
    "        test_accuracy = np.mean(y_test_pred_classes == y_test)\n",
    "\n",
    "        # Atualizar o melhor modelo se este fold for melhor\n",
    "        if test_accuracy > best_val_accuracy:\n",
    "            best_val_accuracy = test_accuracy\n",
    "            best_fold = (fold, sub_fold)\n",
    "        \n",
    "        # Calcular a matriz de confusão\n",
    "        cm = confusion_matrix(y_test, y_test_pred_classes, labels=np.arange(num_classes))\n",
    "        \n",
    "        # Calcular a precisão de cada classe\n",
    "        class_precisions = precision_score(y_test, y_test_pred_classes, average=None)\n",
    "        \n",
    "        # Armazenar a precisão de cada classe para o sub-fold\n",
    "        sub_fold_precisions.append({\n",
    "            'fold': fold,\n",
    "            'sub_fold': sub_fold,\n",
    "            'precisions': class_precisions\n",
    "        })"
   ]
  },
  {
   "cell_type": "code",
   "execution_count": 281,
   "metadata": {},
   "outputs": [],
   "source": [
    "# # Exibir precisões de cada classe para cada sub-fold\n",
    "# for sub_fold_precision in sub_fold_precisions:\n",
    "#     print(f\"Fold {sub_fold_precision['fold']}, Sub-Fold {sub_fold_precision['sub_fold']}:\")\n",
    "#     for i, precision in enumerate(sub_fold_precision['precisions']):\n",
    "#         print(f\"  Precisão da Classe {i}: {precision:.4f}\")"
   ]
  },
  {
   "cell_type": "code",
   "execution_count": 282,
   "metadata": {},
   "outputs": [
    {
     "name": "stdout",
     "output_type": "stream",
     "text": [
      "\u001b[1m5/5\u001b[0m \u001b[32m━━━━━━━━━━━━━━━━━━━━\u001b[0m\u001b[37m\u001b[0m \u001b[1m0s\u001b[0m 9ms/step \n",
      "Melhor acurácia no fold 1, sub-fold 5: 0.5796178343949044\n"
     ]
    },
    {
     "data": {
      "image/png": "[encoded data removed]",
      "text/plain": [
       "<Figure size 640x480 with 2 Axes>"
      ]
     },
     "metadata": {},
     "output_type": "display_data"
    }
   ],
   "source": [
    "# Carregar o melhor modelo\n",
    "best_model = load_model(best_model_path)\n",
    "\n",
    "# Fazer previsões no conjunto de teste final\n",
    "y_test_pred = best_model.predict(X_test)\n",
    "y_test_pred_classes = np.argmax(y_test_pred, axis=1)\n",
    "\n",
    "# Gerar a matriz de confusão\n",
    "cm = confusion_matrix(y_test, y_test_pred_classes)\n",
    "disp = ConfusionMatrixDisplay(confusion_matrix=cm)\n",
    "disp.plot()\n",
    "\n",
    "# Exibir a acurácia final do melhor modelo\n",
    "print(f\"Melhor acurácia no fold {best_fold[0]+1}, sub-fold {best_fold[1]+1}: {best_val_accuracy}\")"
   ]
  },
  {
   "cell_type": "code",
   "execution_count": 283,
   "metadata": {},
   "outputs": [
    {
     "name": "stdout",
     "output_type": "stream",
     "text": [
      "\n",
      "Relatório de Classificação (Matriz):\n",
      "              precision    recall  f1-score     support\n",
      "A              0.500000  0.166667  0.250000    6.000000\n",
      "B1             0.500000  0.400000  0.444444   10.000000\n",
      "B2             0.571429  0.666667  0.615385   36.000000\n",
      "C1             0.600000  0.512195  0.552632   41.000000\n",
      "C2             0.605263  0.605263  0.605263   38.000000\n",
      "DE             0.709677  0.880000  0.785714   25.000000\n",
      "accuracy       0.608974  0.608974  0.608974    0.608974\n",
      "macro avg      0.581062  0.538465  0.542240  156.000000\n",
      "weighted avg   0.602009  0.608974  0.598712  156.000000\n",
      "\n",
      "Melhor acurácia no fold 1, sub-fold 5: 0.5796178343949044\n"
     ]
    }
   ],
   "source": [
    "# Gerar o relatório de classificação\n",
    "report = classification_report(y_test, y_test_pred_classes, target_names=label_encoder.classes_, output_dict=True)\n",
    "\n",
    "# Converter o relatório em um DataFrame para exibição como matriz\n",
    "report_df = pd.DataFrame(report).transpose()\n",
    "\n",
    "# Exibir o relatório em formato de matriz\n",
    "print(\"\\nRelatório de Classificação (Matriz):\")\n",
    "print(report_df)\n",
    "\n",
    "# Exibir a acurácia final do melhor modelo\n",
    "print(f\"\\nMelhor acurácia no fold {best_fold[0]+1}, sub-fold {best_fold[1]+1}: {best_val_accuracy}\")"
   ]
  },
  {
   "cell_type": "code",
   "execution_count": 284,
   "metadata": {},
   "outputs": [
    {
     "name": "stdout",
     "output_type": "stream",
     "text": [
      "Matriz de Confusão Ponderada:\n",
      "[[0.16666667 0.16666667 0.5        0.16666667 0.         0.        ]\n",
      " [0.         0.4        0.4        0.2        0.         0.        ]\n",
      " [0.02777778 0.05555556 0.66666667 0.16666667 0.08333333 0.        ]\n",
      " [0.         0.02439024 0.24390244 0.51219512 0.2195122  0.        ]\n",
      " [0.         0.         0.02631579 0.13157895 0.60526316 0.23684211]\n",
      " [0.         0.         0.         0.         0.12       0.88      ]]\n",
      "Precisão da Classe 0: 0.8571\n",
      "Precisão da Classe 1: 0.6186\n",
      "Precisão da Classe 2: 0.3629\n",
      "Precisão da Classe 3: 0.4351\n",
      "Precisão da Classe 4: 0.5887\n",
      "Precisão da Classe 5: 0.7879\n"
     ]
    }
   ],
   "source": [
    "# Calcular a matriz de confusão original\n",
    "conf_matrix = confusion_matrix(y_test, y_test_pred_classes)\n",
    "\n",
    "# Frequência das classes no conjunto de dados\n",
    "class_counts = np.bincount(y_test)  # Conta o número de ocorrências de cada classe\n",
    "class_weights = 1.0 / class_counts  # Calcula o peso de cada classe\n",
    "\n",
    "# Matriz de confusão ponderada\n",
    "weighted_conf_matrix = conf_matrix * class_weights[:, np.newaxis]\n",
    "\n",
    "# Exibir a matriz de confusão ponderada\n",
    "print(\"Matriz de Confusão Ponderada:\")\n",
    "print(weighted_conf_matrix)\n",
    "\n",
    "# Calcular a precisão de cada classe\n",
    "precisions = []\n",
    "for i in range(weighted_conf_matrix.shape[0]):\n",
    "    true_positives = weighted_conf_matrix[i, i]  # Verdadeiros Positivos\n",
    "    false_positives = sum(weighted_conf_matrix[:, i]) - true_positives  # Falsos Positivos\n",
    "    precision = true_positives / (true_positives + false_positives) if (true_positives + false_positives) > 0 else 0\n",
    "    precisions.append(precision)\n",
    "\n",
    "# Exibir a precisão de cada classe\n",
    "for idx, precision in enumerate(precisions):\n",
    "    print(f'Precisão da Classe {idx}: {precision:.4f}')\n"
   ]
  },
  {
   "cell_type": "code",
   "execution_count": 285,
   "metadata": {},
   "outputs": [],
   "source": [
    "# # Exibir precisões de cada classe para cada sub-fold\n",
    "# for sub_fold_precision in sub_fold_precisions:\n",
    "#     print(f\"Fold {sub_fold_precision['fold']}, Sub-Fold {sub_fold_precision['sub_fold']}:\")\n",
    "#     for i, precision in enumerate(sub_fold_precision['precisions']):\n",
    "#         print(f\"  Precisão da Classe {i}: {precision:.4f}\")"
   ]
  },
  {
   "cell_type": "markdown",
   "metadata": {},
   "source": [
    "Guardando a precisão de cada classe"
   ]
  },
  {
   "cell_type": "code",
   "execution_count": 286,
   "metadata": {},
   "outputs": [],
   "source": [
    "precisao_classe_A = []\n",
    "for i in range(len(sub_fold_precisions)):\n",
    "    precisao_classe_A.append(sub_fold_precisions[i]['precisions'][0])\n",
    "\n",
    "precisao_classe_B1 = []\n",
    "for i in range(len(sub_fold_precisions)):\n",
    "    precisao_classe_B1.append(sub_fold_precisions[i]['precisions'][1])\n",
    "\n",
    "precisao_classe_B2 = []\n",
    "for i in range(len(sub_fold_precisions)):\n",
    "    precisao_classe_B2.append(sub_fold_precisions[i]['precisions'][2])\n",
    "\n",
    "precisao_classe_C1 = []\n",
    "for i in range(len(sub_fold_precisions)):\n",
    "    precisao_classe_C1.append(sub_fold_precisions[i]['precisions'][3])\n",
    "\n",
    "precisao_classe_C2 = []\n",
    "for i in range(len(sub_fold_precisions)):\n",
    "    precisao_classe_C2.append(sub_fold_precisions[i]['precisions'][4])\n",
    "\n",
    "precisao_classe_DE = []\n",
    "for i in range(len(sub_fold_precisions)):\n",
    "    precisao_classe_DE.append(sub_fold_precisions[i]['precisions'][5])\n"
   ]
  },
  {
   "cell_type": "code",
   "execution_count": 287,
   "metadata": {},
   "outputs": [],
   "source": [
    "# #Histograma de precisão\n",
    "# nbinsA = int(np.sqrt(len(precisao_classe_A)))\n",
    "# plt.hist(precisao_classe_A, bins = nbinsA, edgecolor='black') "
   ]
  },
  {
   "cell_type": "code",
   "execution_count": 288,
   "metadata": {},
   "outputs": [
    {
     "ename": "NameError",
     "evalue": "name 'statistics' is not defined",
     "output_type": "error",
     "traceback": [
      "\u001b[1;31m---------------------------------------------------------------------------\u001b[0m",
      "\u001b[1;31mNameError\u001b[0m                                 Traceback (most recent call last)",
      "Cell \u001b[1;32mIn[288], line 11\u001b[0m\n\u001b[0;32m      9\u001b[0m \u001b[38;5;66;03m# Calcular a média de precisão de cada classe\u001b[39;00m\n\u001b[0;32m     10\u001b[0m media_precisoes_classes \u001b[38;5;241m=\u001b[39m [\u001b[38;5;28msum\u001b[39m(precisoes)\u001b[38;5;241m/\u001b[39m\u001b[38;5;28mlen\u001b[39m(precisoes) \u001b[38;5;28;01mfor\u001b[39;00m precisoes \u001b[38;5;129;01min\u001b[39;00m precisoes_classes]\n\u001b[1;32m---> 11\u001b[0m desvio_padrao_precisoes_classes \u001b[38;5;241m=\u001b[39m [\u001b[43mstatistics\u001b[49m\u001b[38;5;241m.\u001b[39mstdev(precisoes) \u001b[38;5;28;01mfor\u001b[39;00m precisoes \u001b[38;5;129;01min\u001b[39;00m precisoes_classes]\n\u001b[0;32m     13\u001b[0m \u001b[38;5;66;03m# Exibir as médias de precisão de cada classe\u001b[39;00m\n\u001b[0;32m     14\u001b[0m vetor_classe \u001b[38;5;241m=\u001b[39m [\u001b[38;5;124m\"\u001b[39m\u001b[38;5;124mA\u001b[39m\u001b[38;5;124m\"\u001b[39m, \u001b[38;5;124m\"\u001b[39m\u001b[38;5;124mB1\u001b[39m\u001b[38;5;124m\"\u001b[39m, \u001b[38;5;124m\"\u001b[39m\u001b[38;5;124mB2\u001b[39m\u001b[38;5;124m\"\u001b[39m, \u001b[38;5;124m\"\u001b[39m\u001b[38;5;124mC1\u001b[39m\u001b[38;5;124m\"\u001b[39m, \u001b[38;5;124m\"\u001b[39m\u001b[38;5;124mC2\u001b[39m\u001b[38;5;124m\"\u001b[39m, \u001b[38;5;124m\"\u001b[39m\u001b[38;5;124mDE\u001b[39m\u001b[38;5;124m\"\u001b[39m]\n",
      "\u001b[1;31mNameError\u001b[0m: name 'statistics' is not defined"
     ]
    }
   ],
   "source": [
    "# Inicializar uma lista de listas para armazenar as precisões de cada classe\n",
    "precisoes_classes = [[] for _ in range(6)]\n",
    "\n",
    "# Preencher as listas com as precisões obtidas em cada sub-kfold\n",
    "for i in range(len(sub_fold_precisions)):\n",
    "    for classe in range(6):\n",
    "        precisoes_classes[classe].append(sub_fold_precisions[i]['precisions'][classe])\n",
    "\n",
    "# Calcular a média de precisão de cada classe\n",
    "media_precisoes_classes = [sum(precisoes)/len(precisoes) for precisoes in precisoes_classes]\n",
    "desvio_padrao_precisoes_classes = [statistics.stdev(precisoes) for precisoes in precisoes_classes]\n",
    "\n",
    "# Exibir as médias de precisão de cada classe\n",
    "vetor_classe = [\"A\", \"B1\", \"B2\", \"C1\", \"C2\", \"DE\"]\n",
    "for classe, media in enumerate(media_precisoes_classes):\n",
    "    # print(f\"Classe {classe+1}: Média de Precisão = {media:.4f}\")\n",
    "    print(f\"Classe {vetor_classe[classe]}: Média de Precisão = {media:.4f}, Desvio Padrão = {desvio:.4f}\")"
   ]
  }
 ],
 "metadata": {
  "kernelspec": {
   "display_name": "Python 3",
   "language": "python",
   "name": "python3"
  },
  "language_info": {
   "codemirror_mode": {
    "name": "ipython",
    "version": 3
   },
   "file_extension": ".py",
   "mimetype": "text/x-python",
   "name": "python",
   "nbconvert_exporter": "python",
   "pygments_lexer": "ipython3",
   "version": "3.12.6"
  }
 },
 "nbformat": 4,
 "nbformat_minor": 2
}
